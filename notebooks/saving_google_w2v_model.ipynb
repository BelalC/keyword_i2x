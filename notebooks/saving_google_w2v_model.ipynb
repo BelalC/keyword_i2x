{
 "cells": [
  {
   "cell_type": "code",
   "execution_count": 1,
   "metadata": {
    "collapsed": true
   },
   "outputs": [],
   "source": [
    "import gensim"
   ]
  },
  {
   "cell_type": "code",
   "execution_count": 8,
   "metadata": {
    "collapsed": false
   },
   "outputs": [
    {
     "name": "stdout",
     "output_type": "stream",
     "text": [
      "loading Word2Vec model...\n",
      "loaded model!\n"
     ]
    }
   ],
   "source": [
    "# ======= KEYWORD RANKING ========\n",
    "# ================================\n",
    "\n",
    "model = \"/Users/Belal/Projects/jobs/i2x_job/keyword_xtract/w2v_models/GoogleNews-vectors-negative300.bin.gz\"\n",
    "\n",
    "print(\"loading Word2Vec model...\")\n",
    "model = gensim.models.Word2Vec.load_word2vec_format(model, limit=125000, binary=True)\n",
    "print(\"loaded model!\")"
   ]
  },
  {
   "cell_type": "code",
   "execution_count": 9,
   "metadata": {
    "collapsed": true
   },
   "outputs": [],
   "source": [
    "model.save_word2vec_format(\"modelling\", binary=True, fvocab=\"vocabz.txt\")"
   ]
  },
  {
   "cell_type": "code",
   "execution_count": 5,
   "metadata": {
    "collapsed": false
   },
   "outputs": [
    {
     "ename": "ValueError",
     "evalue": "invalid literal for int() with base 10: '\\x1f\\x8b\\x08\\x08\\x80\\xff\\xa8R\\x02\\x03GoogleNews-vectors-negative300.bin'",
     "output_type": "error",
     "traceback": [
      "\u001b[0;31m---------------------------------------------------------------------------\u001b[0m",
      "\u001b[0;31mValueError\u001b[0m                                Traceback (most recent call last)",
      "\u001b[0;32m<ipython-input-5-0bb1d2f35159>\u001b[0m in \u001b[0;36m<module>\u001b[0;34m()\u001b[0m\n\u001b[1;32m     20\u001b[0m         \u001b[0mheader\u001b[0m \u001b[0;34m+=\u001b[0m \u001b[0mc\u001b[0m\u001b[0;34m\u001b[0m\u001b[0m\n\u001b[1;32m     21\u001b[0m \u001b[0;34m\u001b[0m\u001b[0m\n\u001b[0;32m---> 22\u001b[0;31m     \u001b[0mtotal_num_vectors\u001b[0m\u001b[0;34m,\u001b[0m \u001b[0mvector_len\u001b[0m \u001b[0;34m=\u001b[0m \u001b[0;34m(\u001b[0m\u001b[0mint\u001b[0m\u001b[0;34m(\u001b[0m\u001b[0mx\u001b[0m\u001b[0;34m)\u001b[0m \u001b[0;32mfor\u001b[0m \u001b[0mx\u001b[0m \u001b[0;32min\u001b[0m \u001b[0mheader\u001b[0m\u001b[0;34m.\u001b[0m\u001b[0msplit\u001b[0m\u001b[0;34m(\u001b[0m\u001b[0;34m)\u001b[0m\u001b[0;34m)\u001b[0m\u001b[0;34m\u001b[0m\u001b[0m\n\u001b[0m\u001b[1;32m     23\u001b[0m     \u001b[0mnum_vectors\u001b[0m \u001b[0;34m=\u001b[0m \u001b[0mmin\u001b[0m\u001b[0;34m(\u001b[0m\u001b[0mMAX_VECTORS\u001b[0m\u001b[0;34m,\u001b[0m \u001b[0mtotal_num_vectors\u001b[0m\u001b[0;34m)\u001b[0m\u001b[0;34m\u001b[0m\u001b[0m\n\u001b[1;32m     24\u001b[0m \u001b[0;34m\u001b[0m\u001b[0m\n",
      "\u001b[0;32m<ipython-input-5-0bb1d2f35159>\u001b[0m in \u001b[0;36m<genexpr>\u001b[0;34m((x,))\u001b[0m\n\u001b[1;32m     20\u001b[0m         \u001b[0mheader\u001b[0m \u001b[0;34m+=\u001b[0m \u001b[0mc\u001b[0m\u001b[0;34m\u001b[0m\u001b[0m\n\u001b[1;32m     21\u001b[0m \u001b[0;34m\u001b[0m\u001b[0m\n\u001b[0;32m---> 22\u001b[0;31m     \u001b[0mtotal_num_vectors\u001b[0m\u001b[0;34m,\u001b[0m \u001b[0mvector_len\u001b[0m \u001b[0;34m=\u001b[0m \u001b[0;34m(\u001b[0m\u001b[0mint\u001b[0m\u001b[0;34m(\u001b[0m\u001b[0mx\u001b[0m\u001b[0;34m)\u001b[0m \u001b[0;32mfor\u001b[0m \u001b[0mx\u001b[0m \u001b[0;32min\u001b[0m \u001b[0mheader\u001b[0m\u001b[0;34m.\u001b[0m\u001b[0msplit\u001b[0m\u001b[0;34m(\u001b[0m\u001b[0;34m)\u001b[0m\u001b[0;34m)\u001b[0m\u001b[0;34m\u001b[0m\u001b[0m\n\u001b[0m\u001b[1;32m     23\u001b[0m     \u001b[0mnum_vectors\u001b[0m \u001b[0;34m=\u001b[0m \u001b[0mmin\u001b[0m\u001b[0;34m(\u001b[0m\u001b[0mMAX_VECTORS\u001b[0m\u001b[0;34m,\u001b[0m \u001b[0mtotal_num_vectors\u001b[0m\u001b[0;34m)\u001b[0m\u001b[0;34m\u001b[0m\u001b[0m\n\u001b[1;32m     24\u001b[0m \u001b[0;34m\u001b[0m\u001b[0m\n",
      "\u001b[0;31mValueError\u001b[0m: invalid literal for int() with base 10: '\\x1f\\x8b\\x08\\x08\\x80\\xff\\xa8R\\x02\\x03GoogleNews-vectors-negative300.bin'"
     ]
    }
   ],
   "source": [
    "from __future__ import division\n",
    "\n",
    "import struct\n",
    "import sys\n",
    "\n",
    "FILE_NAME = \"/Users/Belal/Projects/jobs/i2x_job/keyword_xtract/w2v_models/GoogleNews-vectors-negative300.bin.gz\"\n",
    "MAX_VECTORS = 200000 # This script takes a lot of RAM (>2GB for 200K vectors), if you want to use the full 3M embeddings then you probably need to insert the vectors into some kind of database\n",
    "FLOAT_SIZE = 4 # 32bit float\n",
    "\n",
    "vectors = dict()\n",
    "\n",
    "with open(FILE_NAME, 'rb') as f:\n",
    "    \n",
    "    c = None\n",
    "    \n",
    "    # read the header\n",
    "    header = \"\"\n",
    "    while c != \"\\n\":\n",
    "        c = f.read(1)\n",
    "        header += c\n",
    "\n",
    "    total_num_vectors, vector_len = (int(x) for x in header.split())\n",
    "    num_vectors = min(MAX_VECTORS, total_num_vectors)\n",
    "    \n",
    "    print \"Number of vectors: %d/%d\" % (num_vectors, total_num_vectors)\n",
    "    print \"Vector size: %d\" % vector_len\n",
    "\n",
    "    while len(vectors) < num_vectors:\n",
    "\n",
    "        word = \"\"        \n",
    "        while True:\n",
    "            c = f.read(1)\n",
    "            if c == \" \":\n",
    "                break\n",
    "            word += c\n",
    "\n",
    "        binary_vector = f.read(FLOAT_SIZE * vector_len)\n",
    "        vectors[word] = [ struct.unpack_from('f', binary_vector, i)[0] \n",
    "                          for i in xrange(0, len(binary_vector), FLOAT_SIZE) ]\n",
    "        \n",
    "        sys.stdout.write(\"%d%%\\r\" % (len(vectors) / num_vectors * 100))\n",
    "        sys.stdout.flush()\n",
    "\n",
    "import cPickle\n",
    "\n",
    "print \"\\nSaving...\"\n",
    "with open(FILE_NAME[:-3] + \"pcl\", 'wb') as f:\n",
    "    cPickle.dump(vectors, f, cPickle.HIGHEST_PROTOCOL)"
   ]
  },
  {
   "cell_type": "code",
   "execution_count": 6,
   "metadata": {
    "collapsed": false
   },
   "outputs": [
    {
     "ename": "ImportError",
     "evalue": "No module named 'cPickle'",
     "output_type": "error",
     "traceback": [
      "\u001b[0;31m---------------------------------------------------------------------------\u001b[0m",
      "\u001b[0;31mImportError\u001b[0m                               Traceback (most recent call last)",
      "\u001b[0;32m<ipython-input-6-7640a1e47ddb>\u001b[0m in \u001b[0;36m<module>\u001b[0;34m()\u001b[0m\n\u001b[0;32m----> 1\u001b[0;31m \u001b[0;32mimport\u001b[0m \u001b[0mcPickle\u001b[0m\u001b[0;34m\u001b[0m\u001b[0m\n\u001b[0m\u001b[1;32m      2\u001b[0m \u001b[0;34m\u001b[0m\u001b[0m\n",
      "\u001b[0;31mImportError\u001b[0m: No module named 'cPickle'"
     ]
    }
   ],
   "source": [
    "import cPickle\n",
    "\n",
    "print (\"\\nSaving...\")\n",
    "with open(FILE_NAME[:-3] + \"pcl\", 'wb') as f:\n",
    "    cPickle.dump(vectors, f, cPickle.HIGHEST_PROTOCOL)"
   ]
  },
  {
   "cell_type": "code",
   "execution_count": null,
   "metadata": {
    "collapsed": true
   },
   "outputs": [],
   "source": []
  }
 ],
 "metadata": {
  "kernelspec": {
   "display_name": "Python [conda env:tweet_py2]",
   "language": "python",
   "name": "conda-env-tweet_py2-py"
  },
  "language_info": {
   "codemirror_mode": {
    "name": "ipython",
    "version": 2
   },
   "file_extension": ".py",
   "mimetype": "text/x-python",
   "name": "python",
   "nbconvert_exporter": "python",
   "pygments_lexer": "ipython2",
   "version": "2.7.13"
  }
 },
 "nbformat": 4,
 "nbformat_minor": 1
}
